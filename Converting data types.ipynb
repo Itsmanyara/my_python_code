{
 "cells": [
  {
   "cell_type": "markdown",
   "id": "a49a64fc",
   "metadata": {},
   "source": [
    "#Converting data types\n"
   ]
  },
  {
   "cell_type": "code",
   "execution_count": 1,
   "id": "995794be",
   "metadata": {},
   "outputs": [],
   "source": [
    "num_int = 10\n"
   ]
  },
  {
   "cell_type": "code",
   "execution_count": 2,
   "id": "bec324d9",
   "metadata": {},
   "outputs": [],
   "source": [
    "num_str = '10'"
   ]
  },
  {
   "cell_type": "code",
   "execution_count": 3,
   "id": "676c5fb7",
   "metadata": {},
   "outputs": [],
   "source": [
    "num_int_conv = int(num_str)"
   ]
  },
  {
   "cell_type": "code",
   "execution_count": 4,
   "id": "92aef57d",
   "metadata": {},
   "outputs": [
    {
     "name": "stdout",
     "output_type": "stream",
     "text": [
      "20\n"
     ]
    }
   ],
   "source": [
    "sum_num = num_int + num_int_conv\n",
    "print(sum_num)"
   ]
  },
  {
   "cell_type": "code",
   "execution_count": null,
   "id": "9b113661",
   "metadata": {},
   "outputs": [],
   "source": []
  }
 ],
 "metadata": {
  "kernelspec": {
   "display_name": "Python 3 (ipykernel)",
   "language": "python",
   "name": "python3"
  },
  "language_info": {
   "codemirror_mode": {
    "name": "ipython",
    "version": 3
   },
   "file_extension": ".py",
   "mimetype": "text/x-python",
   "name": "python",
   "nbconvert_exporter": "python",
   "pygments_lexer": "ipython3",
   "version": "3.11.5"
  }
 },
 "nbformat": 4,
 "nbformat_minor": 5
}
