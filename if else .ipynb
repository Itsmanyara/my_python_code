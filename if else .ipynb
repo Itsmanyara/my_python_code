{
 "cells": [
  {
   "cell_type": "markdown",
   "id": "5869a3d6",
   "metadata": {},
   "source": [
    "# If Statement"
   ]
  },
  {
   "cell_type": "code",
   "execution_count": 7,
   "id": "1fcc0536",
   "metadata": {},
   "outputs": [],
   "source": [
    "if 30 < 10:\n",
    "    print('Wrong')"
   ]
  },
  {
   "cell_type": "code",
   "execution_count": 8,
   "id": "220bf4f5",
   "metadata": {},
   "outputs": [
    {
     "name": "stdout",
     "output_type": "stream",
     "text": [
      "WRONG\n"
     ]
    }
   ],
   "source": [
    "if 30 > 10:\n",
    "    print('WRONG')"
   ]
  },
  {
   "cell_type": "code",
   "execution_count": 9,
   "id": "b556726e",
   "metadata": {},
   "outputs": [],
   "source": [
    "if 30 < 10:\n",
    "    print('WRONG')"
   ]
  },
  {
   "cell_type": "code",
   "execution_count": 11,
   "id": "02ab2c38",
   "metadata": {},
   "outputs": [
    {
     "name": "stdout",
     "output_type": "stream",
     "text": [
      "WRONG\n"
     ]
    }
   ],
   "source": [
    "if 30 > 10:\n",
    "    print('WRONG')\n",
    "else:\n",
    "        print('ANSWER')"
   ]
  },
  {
   "cell_type": "code",
   "execution_count": 16,
   "id": "91a775ad",
   "metadata": {},
   "outputs": [
    {
     "name": "stdout",
     "output_type": "stream",
     "text": [
      "ANSWER\n"
     ]
    }
   ],
   "source": [
    "if 30 < 10:\n",
    "    print('WRONG')\n",
    "elif 30 < 50:\n",
    "        print('ANSWER')"
   ]
  },
  {
   "cell_type": "code",
   "execution_count": null,
   "id": "58a64aa0",
   "metadata": {},
   "outputs": [],
   "source": []
  }
 ],
 "metadata": {
  "kernelspec": {
   "display_name": "Python 3 (ipykernel)",
   "language": "python",
   "name": "python3"
  },
  "language_info": {
   "codemirror_mode": {
    "name": "ipython",
    "version": 3
   },
   "file_extension": ".py",
   "mimetype": "text/x-python",
   "name": "python",
   "nbconvert_exporter": "python",
   "pygments_lexer": "ipython3",
   "version": "3.11.5"
  }
 },
 "nbformat": 4,
 "nbformat_minor": 5
}
