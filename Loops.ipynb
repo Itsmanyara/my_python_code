{
 "cells": [
  {
   "cell_type": "code",
   "execution_count": 1,
   "id": "b46f0443",
   "metadata": {},
   "outputs": [
    {
     "name": "stdout",
     "output_type": "stream",
     "text": [
      "1\n",
      "2\n",
      "3\n",
      "4\n",
      "5\n"
     ]
    }
   ],
   "source": [
    "#for loops\n",
    "integers = [1,2,3,4,5]\n",
    "for number in integers :\n",
    "    print(number)"
   ]
  },
  {
   "cell_type": "code",
   "execution_count": 2,
   "id": "7a5f8c93",
   "metadata": {},
   "outputs": [
    {
     "name": "stdout",
     "output_type": "stream",
     "text": [
      "Savage\n",
      "Savage\n",
      "Savage\n",
      "Savage\n",
      "Savage\n"
     ]
    }
   ],
   "source": [
    "integers = [1,2,3,4,5]\n",
    "for number in integers :\n",
    "    print('Savage')"
   ]
  },
  {
   "cell_type": "code",
   "execution_count": 3,
   "id": "b644a7ef",
   "metadata": {},
   "outputs": [
    {
     "name": "stdout",
     "output_type": "stream",
     "text": [
      "2\n",
      "4\n",
      "6\n",
      "8\n",
      "10\n"
     ]
    }
   ],
   "source": [
    "integers = [1,2,3,4,5]\n",
    "for number in integers :\n",
    "    print(number + number)"
   ]
  },
  {
   "cell_type": "code",
   "execution_count": 4,
   "id": "d435d4a4",
   "metadata": {},
   "outputs": [
    {
     "name": "stdout",
     "output_type": "stream",
     "text": [
      "{'name': 'Sam Manyara', 'Country': 'Kenya', 'Location:': 'Nairobi'}\n"
     ]
    }
   ],
   "source": [
    "sam_manyara_dict = {'name': 'Sam Manyara', 'Country': 'Kenya', 'Location:': 'Nairobi'}\n",
    "print(sam_manyara_dict)"
   ]
  },
  {
   "cell_type": "code",
   "execution_count": 5,
   "id": "1bcbbd10",
   "metadata": {},
   "outputs": [
    {
     "name": "stdout",
     "output_type": "stream",
     "text": [
      "Sam Manyara\n",
      "Kenya\n",
      "Nairobi\n"
     ]
    }
   ],
   "source": [
    "for country in sam_manyara_dict.values():\n",
    "    print(country)"
   ]
  },
  {
   "cell_type": "code",
   "execution_count": 7,
   "id": "7b24d20b",
   "metadata": {},
   "outputs": [
    {
     "name": "stdout",
     "output_type": "stream",
     "text": [
      "name -> Sam Manyara\n",
      "Country -> Kenya\n",
      "Location: -> Nairobi\n"
     ]
    }
   ],
   "source": [
    "for key, value in sam_manyara_dict.items():\n",
    "    print(key, '->', value)"
   ]
  },
  {
   "cell_type": "code",
   "execution_count": 8,
   "id": "b901ebf9",
   "metadata": {},
   "outputs": [],
   "source": [
    "flavors = ['VANILLA', 'STRAWBERRY', 'MANGO']\n",
    "toppings = ['Hot', 'Cold', 'Warm']"
   ]
  },
  {
   "cell_type": "code",
   "execution_count": 9,
   "id": "8920179d",
   "metadata": {},
   "outputs": [
    {
     "name": "stdout",
     "output_type": "stream",
     "text": [
      "VANILLA topped with Hot\n",
      "VANILLA topped with Cold\n",
      "VANILLA topped with Warm\n",
      "STRAWBERRY topped with Hot\n",
      "STRAWBERRY topped with Cold\n",
      "STRAWBERRY topped with Warm\n",
      "MANGO topped with Hot\n",
      "MANGO topped with Cold\n",
      "MANGO topped with Warm\n"
     ]
    }
   ],
   "source": [
    "for one in flavors :\n",
    "    for two in toppings:\n",
    "        print(one, 'topped with', two)\n",
    "    "
   ]
  },
  {
   "cell_type": "code",
   "execution_count": null,
   "id": "c2fd0b75",
   "metadata": {},
   "outputs": [],
   "source": []
  }
 ],
 "metadata": {
  "kernelspec": {
   "display_name": "Python 3 (ipykernel)",
   "language": "python",
   "name": "python3"
  },
  "language_info": {
   "codemirror_mode": {
    "name": "ipython",
    "version": 3
   },
   "file_extension": ".py",
   "mimetype": "text/x-python",
   "name": "python",
   "nbconvert_exporter": "python",
   "pygments_lexer": "ipython3",
   "version": "3.11.5"
  }
 },
 "nbformat": 4,
 "nbformat_minor": 5
}
