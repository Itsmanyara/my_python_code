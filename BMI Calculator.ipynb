{
 "cells": [
  {
   "cell_type": "markdown",
   "id": "47cade8c",
   "metadata": {},
   "source": [
    "# BMI Calculator"
   ]
  },
  {
   "cell_type": "code",
   "execution_count": 10,
   "id": "75b12203",
   "metadata": {},
   "outputs": [
    {
     "name": "stdout",
     "output_type": "stream",
     "text": [
      "Enter your name: Manyara\n",
      "Enter your weight in pounds:180\n",
      "Enter your height in inches:75\n",
      "22.496000000000002\n",
      "name:Normal Weight.\n"
     ]
    }
   ],
   "source": [
    "name = input('Enter your name: ')\n",
    "weight = int(input('Enter your weight in pounds:'))\n",
    "height = int(input('Enter your height in inches:'))\n",
    "BMI =  (weight / (height * height)) * 703\n",
    "print(BMI)\n",
    "if BMI>0:\n",
    "    if (BMI<18.5):\n",
    "        print('name:' + 'Underweight')\n",
    "    elif (BMI<=24.9):\n",
    "        print('name:' + 'Normal Weight.')\n",
    "    elif(BMI<29.9):\n",
    "        print('name:' + 'Overweight.')\n",
    "    elif(BMI>30):\n",
    "        print('name:' + 'Obese.')\n"
   ]
  },
  {
   "cell_type": "code",
   "execution_count": 5,
   "id": "cc339b2d",
   "metadata": {},
   "outputs": [],
   "source": [
    "#BMI =  weight (lb) / [height (in)]2 x 703\n",
    "print(weight)"
   ]
  },
  {
   "cell_type": "code",
   "execution_count": 8,
   "id": "6cba854c",
   "metadata": {},
   "outputs": [
    {
     "name": "stdout",
     "output_type": "stream",
     "text": [
      "Overweight.\n"
     ]
    }
   ],
   "source": [
    "if BMI>0:\n",
    "    if (BMI<18.5):\n",
    "        print('Underweight.')\n",
    "    elif (BMI<=24.9):\n",
    "        print('Normal Weight.')\n",
    "    elif(BMI<29.9):\n",
    "        print('Overweight.')\n",
    "    elif(BMI>30):\n",
    "        print('Obese.')\n",
    "        \n"
   ]
  },
  {
   "cell_type": "code",
   "execution_count": null,
   "id": "25ecd709",
   "metadata": {},
   "outputs": [],
   "source": []
  }
 ],
 "metadata": {
  "kernelspec": {
   "display_name": "Python 3 (ipykernel)",
   "language": "python",
   "name": "python3"
  },
  "language_info": {
   "codemirror_mode": {
    "name": "ipython",
    "version": 3
   },
   "file_extension": ".py",
   "mimetype": "text/x-python",
   "name": "python",
   "nbconvert_exporter": "python",
   "pygments_lexer": "ipython3",
   "version": "3.11.5"
  }
 },
 "nbformat": 4,
 "nbformat_minor": 5
}
