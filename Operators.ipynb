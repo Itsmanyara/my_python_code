{
 "cells": [
  {
   "cell_type": "markdown",
   "id": "0b7e1b3a",
   "metadata": {},
   "source": [
    "# Comparison, Logical and Logical Operators\n"
   ]
  },
  {
   "cell_type": "code",
   "execution_count": 1,
   "id": "45c9008e",
   "metadata": {},
   "outputs": [
    {
     "data": {
      "text/plain": [
       "False"
      ]
     },
     "execution_count": 1,
     "metadata": {},
     "output_type": "execute_result"
    }
   ],
   "source": [
    "10==50"
   ]
  },
  {
   "cell_type": "code",
   "execution_count": 2,
   "id": "66fd9f13",
   "metadata": {},
   "outputs": [
    {
     "data": {
      "text/plain": [
       "True"
      ]
     },
     "execution_count": 2,
     "metadata": {},
     "output_type": "execute_result"
    }
   ],
   "source": [
    "10!=50\n"
   ]
  },
  {
   "cell_type": "code",
   "execution_count": 3,
   "id": "d75c00b8",
   "metadata": {},
   "outputs": [
    {
     "data": {
      "text/plain": [
       "True"
      ]
     },
     "execution_count": 3,
     "metadata": {},
     "output_type": "execute_result"
    }
   ],
   "source": [
    "20>5"
   ]
  },
  {
   "cell_type": "code",
   "execution_count": 4,
   "id": "bb251364",
   "metadata": {},
   "outputs": [
    {
     "data": {
      "text/plain": [
       "False"
      ]
     },
     "execution_count": 4,
     "metadata": {},
     "output_type": "execute_result"
    }
   ],
   "source": [
    "20<5"
   ]
  },
  {
   "cell_type": "code",
   "execution_count": 5,
   "id": "2be58dce",
   "metadata": {},
   "outputs": [
    {
     "data": {
      "text/plain": [
       "False"
      ]
     },
     "execution_count": 5,
     "metadata": {},
     "output_type": "execute_result"
    }
   ],
   "source": [
    "20>=30"
   ]
  },
  {
   "cell_type": "code",
   "execution_count": 6,
   "id": "89694504",
   "metadata": {},
   "outputs": [
    {
     "data": {
      "text/plain": [
       "False"
      ]
     },
     "execution_count": 6,
     "metadata": {},
     "output_type": "execute_result"
    }
   ],
   "source": [
    "(20>50) and (50<20)"
   ]
  },
  {
   "cell_type": "code",
   "execution_count": 7,
   "id": "1aae93f3",
   "metadata": {},
   "outputs": [
    {
     "data": {
      "text/plain": [
       "False"
      ]
     },
     "execution_count": 7,
     "metadata": {},
     "output_type": "execute_result"
    }
   ],
   "source": [
    "(20>50) or (50<20)"
   ]
  },
  {
   "cell_type": "code",
   "execution_count": 8,
   "id": "c5cc8996",
   "metadata": {},
   "outputs": [
    {
     "data": {
      "text/plain": [
       "True"
      ]
     },
     "execution_count": 8,
     "metadata": {},
     "output_type": "execute_result"
    }
   ],
   "source": [
    "not 50<20"
   ]
  },
  {
   "cell_type": "code",
   "execution_count": 9,
   "id": "e13fa41c",
   "metadata": {},
   "outputs": [
    {
     "data": {
      "text/plain": [
       "True"
      ]
     },
     "execution_count": 9,
     "metadata": {},
     "output_type": "execute_result"
    }
   ],
   "source": [
    "ice_cream = 'I hate ice cream'\n",
    "'ice'in 'I hate ice cream'"
   ]
  },
  {
   "cell_type": "code",
   "execution_count": null,
   "id": "88c6c0fa",
   "metadata": {},
   "outputs": [],
   "source": []
  }
 ],
 "metadata": {
  "kernelspec": {
   "display_name": "Python 3 (ipykernel)",
   "language": "python",
   "name": "python3"
  },
  "language_info": {
   "codemirror_mode": {
    "name": "ipython",
    "version": 3
   },
   "file_extension": ".py",
   "mimetype": "text/x-python",
   "name": "python",
   "nbconvert_exporter": "python",
   "pygments_lexer": "ipython3",
   "version": "3.11.5"
  }
 },
 "nbformat": 4,
 "nbformat_minor": 5
}
