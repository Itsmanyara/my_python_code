{
 "cells": [
  {
   "cell_type": "markdown",
   "id": "d539ccd2",
   "metadata": {},
   "source": [
    "#Data Types\n"
   ]
  },
  {
   "cell_type": "code",
   "execution_count": 2,
   "id": "6ae7ea80",
   "metadata": {},
   "outputs": [
    {
     "name": "stdout",
     "output_type": "stream",
     "text": [
      "Samwel Manyara\n"
     ]
    }
   ],
   "source": [
    "y = 'Samwel Manyara'\n",
    "print(y)"
   ]
  },
  {
   "cell_type": "code",
   "execution_count": 3,
   "id": "3c3d6895",
   "metadata": {},
   "outputs": [
    {
     "name": "stdout",
     "output_type": "stream",
     "text": [
      "Samwel \n"
     ]
    }
   ],
   "source": [
    "print(y[:7])"
   ]
  },
  {
   "cell_type": "code",
   "execution_count": 5,
   "id": "ecdb8a8f",
   "metadata": {},
   "outputs": [
    {
     "name": "stdout",
     "output_type": "stream",
     "text": [
      "Sam\n"
     ]
    }
   ],
   "source": [
    "print(y[0:3])"
   ]
  },
  {
   "cell_type": "code",
   "execution_count": 6,
   "id": "0ab8b19f",
   "metadata": {},
   "outputs": [
    {
     "data": {
      "text/plain": [
       "['Chocolate', 'Vanilla', 'Strawberry']"
      ]
     },
     "execution_count": 6,
     "metadata": {},
     "output_type": "execute_result"
    }
   ],
   "source": [
    "#lists\n",
    "['Chocolate', 'Vanilla', 'Strawberry']\n"
   ]
  },
  {
   "cell_type": "code",
   "execution_count": 7,
   "id": "26a4cc11",
   "metadata": {},
   "outputs": [],
   "source": [
    "ice_cream = ['Chocolate', 'Vanilla', 'Strawberry']\n",
    "ice_cream.append('Mango')"
   ]
  },
  {
   "cell_type": "code",
   "execution_count": 8,
   "id": "aef512b6",
   "metadata": {},
   "outputs": [
    {
     "name": "stdout",
     "output_type": "stream",
     "text": [
      "['Chocolate', 'Vanilla', 'Strawberry', 'Mango']\n"
     ]
    }
   ],
   "source": [
    "print(ice_cream)"
   ]
  },
  {
   "cell_type": "code",
   "execution_count": 9,
   "id": "6cf4e42c",
   "metadata": {},
   "outputs": [
    {
     "ename": "AttributeError",
     "evalue": "'tuple' object has no attribute 'append'",
     "output_type": "error",
     "traceback": [
      "\u001b[1;31m---------------------------------------------------------------------------\u001b[0m",
      "\u001b[1;31mAttributeError\u001b[0m                            Traceback (most recent call last)",
      "Cell \u001b[1;32mIn[9], line 2\u001b[0m\n\u001b[0;32m      1\u001b[0m tuple_scoops \u001b[38;5;241m=\u001b[39m (\u001b[38;5;124m'\u001b[39m\u001b[38;5;124mChocolate\u001b[39m\u001b[38;5;124m'\u001b[39m, \u001b[38;5;124m'\u001b[39m\u001b[38;5;124mVanilla\u001b[39m\u001b[38;5;124m'\u001b[39m, \u001b[38;5;124m'\u001b[39m\u001b[38;5;124mStrawberry\u001b[39m\u001b[38;5;124m'\u001b[39m, \u001b[38;5;124m'\u001b[39m\u001b[38;5;124mMango\u001b[39m\u001b[38;5;124m'\u001b[39m)\n\u001b[1;32m----> 2\u001b[0m tuple_scoops\u001b[38;5;241m.\u001b[39mappend(\u001b[38;5;124m'\u001b[39m\u001b[38;5;124mPassion\u001b[39m\u001b[38;5;124m'\u001b[39m)\n",
      "\u001b[1;31mAttributeError\u001b[0m: 'tuple' object has no attribute 'append'"
     ]
    }
   ],
   "source": [
    "#tuple\n",
    "tuple_scoops = ('Chocolate', 'Vanilla', 'Strawberry', 'Mango')\n",
    "tuple_scoops.append('Passion')"
   ]
  },
  {
   "cell_type": "code",
   "execution_count": 24,
   "id": "460f8cc3",
   "metadata": {},
   "outputs": [
    {
     "name": "stdout",
     "output_type": "stream",
     "text": [
      "{4, 5, 6, 7}\n"
     ]
    }
   ],
   "source": [
    "#sets\n",
    "\n",
    "weekly_pints ={6,7,5,7,4,6}\n",
    "print(weekly_pints)\n",
    "\n",
    "manyara_weekly_pints = {5,6,5,6,7,5}"
   ]
  },
  {
   "cell_type": "code",
   "execution_count": 25,
   "id": "fd486a65",
   "metadata": {},
   "outputs": [
    {
     "name": "stdout",
     "output_type": "stream",
     "text": [
      "{3, 4, 5, 6, 7}\n"
     ]
    }
   ],
   "source": [
    "sam_weekly_pints = {7,6,7,5,4,3,6}\n",
    "print(sam_weekly_pints)\n"
   ]
  },
  {
   "cell_type": "code",
   "execution_count": 26,
   "id": "3b505f94",
   "metadata": {},
   "outputs": [
    {
     "name": "stdout",
     "output_type": "stream",
     "text": [
      "{3, 4, 5, 6, 7}\n"
     ]
    }
   ],
   "source": [
    "print(manyara_weekly_pints | sam_weekly_pints)\n"
   ]
  },
  {
   "cell_type": "code",
   "execution_count": 27,
   "id": "5777249e",
   "metadata": {},
   "outputs": [
    {
     "name": "stdout",
     "output_type": "stream",
     "text": [
      "{5, 6, 7}\n"
     ]
    }
   ],
   "source": [
    "print(manyara_weekly_pints & sam_weekly_pints)"
   ]
  },
  {
   "cell_type": "code",
   "execution_count": 29,
   "id": "27507757",
   "metadata": {},
   "outputs": [
    {
     "name": "stdout",
     "output_type": "stream",
     "text": [
      "{3, 4}\n"
     ]
    }
   ],
   "source": [
    "print(manyara_weekly_pints ^ sam_weekly_pints)"
   ]
  },
  {
   "cell_type": "code",
   "execution_count": 30,
   "id": "2d0f3e34",
   "metadata": {},
   "outputs": [
    {
     "name": "stdout",
     "output_type": "stream",
     "text": [
      "set()\n"
     ]
    }
   ],
   "source": [
    "print(manyara_weekly_pints - sam_weekly_pints)"
   ]
  },
  {
   "cell_type": "code",
   "execution_count": 41,
   "id": "69e7f1ba",
   "metadata": {},
   "outputs": [
    {
     "name": "stdout",
     "output_type": "stream",
     "text": [
      "{'name': 'Sam Manyara', 'DOB': '1996', 'Country': 'Kenya'}\n"
     ]
    }
   ],
   "source": [
    "#dictionary\n",
    "dict_demo = {'name': 'Sam Manyara', 'DOB':'1996', 'Country': 'Kenya' }\n",
    "print(dict_demo)"
   ]
  },
  {
   "cell_type": "code",
   "execution_count": 42,
   "id": "fb634cff",
   "metadata": {},
   "outputs": [
    {
     "name": "stdout",
     "output_type": "stream",
     "text": [
      "{'name': 'Sam Manyara', 'DOB': '1996', 'Country': 'Kenya'}\n"
     ]
    }
   ],
   "source": [
    "print(dict_demo)"
   ]
  },
  {
   "cell_type": "code",
   "execution_count": 44,
   "id": "d8177196",
   "metadata": {},
   "outputs": [
    {
     "data": {
      "text/plain": [
       "'Sam Manyara'"
      ]
     },
     "execution_count": 44,
     "metadata": {},
     "output_type": "execute_result"
    }
   ],
   "source": [
    "dict_demo['name']"
   ]
  },
  {
   "cell_type": "code",
   "execution_count": null,
   "id": "fb263a8e",
   "metadata": {},
   "outputs": [],
   "source": []
  }
 ],
 "metadata": {
  "kernelspec": {
   "display_name": "Python 3 (ipykernel)",
   "language": "python",
   "name": "python3"
  },
  "language_info": {
   "codemirror_mode": {
    "name": "ipython",
    "version": 3
   },
   "file_extension": ".py",
   "mimetype": "text/x-python",
   "name": "python",
   "nbconvert_exporter": "python",
   "pygments_lexer": "ipython3",
   "version": "3.11.5"
  }
 },
 "nbformat": 4,
 "nbformat_minor": 5
}
